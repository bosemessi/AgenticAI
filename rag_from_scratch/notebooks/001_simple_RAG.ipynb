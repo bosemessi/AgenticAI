{
 "cells": [
  {
   "cell_type": "code",
   "execution_count": 1,
   "id": "66001caa",
   "metadata": {},
   "outputs": [],
   "source": [
    "%load_ext autoreload\n",
    "%autoreload 2\n",
    "\n",
    "import pymupdf\n",
    "import os\n",
    "import sys\n",
    "sys.path.append(\"../\")\n",
    "import numpy as np\n",
    "import json\n",
    "from openai import OpenAI\n",
    "from dotenv import load_dotenv\n",
    "load_dotenv()\n",
    "api_key = os.getenv('NEBIUS_API_KEY')\n",
    "from tqdm import tqdm\n",
    "from src.datareader_utils.datareader import read_txt_files, read_pdf_files"
   ]
  },
  {
   "cell_type": "code",
   "execution_count": 2,
   "id": "4b1c8107",
   "metadata": {},
   "outputs": [],
   "source": [
    "txt_file_path = \"../data/cat-facts.txt\""
   ]
  },
  {
   "cell_type": "code",
   "execution_count": 3,
   "id": "c8696a00",
   "metadata": {},
   "outputs": [
    {
     "data": {
      "text/plain": [
       "'On average, cats spend 2/3 of every day sleeping. That means a nine-year-old cat has been awake for only three years of its life.\\nUnlike dogs, cats do not have a sweet tooth. Scientists believe this is due to a mutation in a key taste receptor.\\nWhen a cat chases its prey, it keeps its head level. Dogs and humans bob their heads up and down.\\nThe technical term for a cat’s hairball is a “bezoar.”\\nA group of cats is called a “clowder.”\\nFemale cats tend to be right pawed, while male cats are more often left pawed. Interestingly, while 90% of humans are right handed, the remaining 10% of lefties also tend to be male.\\nA cat can’t climb head first down a tree because every claw on a cat’s paw points the same way. To get down from a tree, a cat must back down.\\nCats make about 100 different sounds. Dogs make only about 10.\\nA cat’s brain is biologically more similar to a human brain than it is to a dog’s. Both humans and cats have identical regions in their brains that are responsible for emotions.\\nThere are more than 500 million domestic cats in the world, with approximately 40 recognized breeds.\\nWhile it is commonly thought that the ancient Egyptians were the first to domesticate cats, the oldest known pet cat was recently found in a 9,500-year-old grave on the Mediterranean island of Cyprus. This grave predates early Egyptian art depicting cats by 4,000 years or more.\\nDuring the time of the Spanish Inquisition, Pope Innocent VIII condemned cats as evil and thousands of cats were burned. Unfortunately, the widespread killing of cats led to an explosion of the rat population, which exacerbated the effects of the Black Death.\\nDuring the Middle Ages, cats were associated with witchcraft, and on St. John’s Day, people all over Europe would stuff them into sacks and toss the cats into bonfires. On holy days, people celebrated by tossing cats from church towers.\\nCats are North America’s most popular pets: there are 73 million cats compared to 63 million dogs. Over 30% of households in North America own a cat.\\nThe first cat in space was a French cat named Felicette (a.k.a. “Astrocat”) In 1963, France blasted the cat into outer space. Electrodes implanted in her brains sent neurological signals back to Earth. She survived the trip.\\nThe group of words associated with cat ( catt, cath, chat, katze ) stem from the Latin catus , meaning domestic cat, as opposed to feles , or wild cat.\\nThe term “puss” is the root of the principal word for “cat” in the Romanian term pisica and the root of secondary words in Lithuanian ( puz ) and Low German puus . Some scholars suggest that “puss” could be imitative of the hissing sound used to get a cat’s attention. As a slang word for the female pudenda, it could be associated with the connotation of a cat being soft, warm, and fuzzy.\\nApproximately 40,000 people are bitten by cats in the U.S. annually.\\nAccording to Hebrew legend, Noah prayed to God for help protecting all the food he stored on the ark from being eaten by rats. In reply, God made the lion sneeze, and out popped a cat.\\nA cat’s hearing is better than a dog’s. And a cat can hear high-frequency sounds up to two octaves higher than a human.\\nA cat can travel at a top speed of approximately 31 mph (49 km) over a short distance.\\nA cat can jump up to five times its own height in a single bound.\\nSome cats have survived falls of over 65 feet (20 meters), due largely to their “righting reflex.” The eyes and balance organs in the inner ear tell it where it is in space so the cat can land on its feet. Even cats without a tail have this ability.\\nA cat rubs against people not only to be affectionate but also to mark out its territory with scent glands around its face. The tail area and paws also carry the cat’s scent.\\nResearchers are unsure exactly how a cat purrs. Most veterinarians believe that a cat purrs by vibrating vocal folds deep in the throat. To do this, a muscle in the larynx opens and closes the air passage about 25 times per second.\\nWhen a family cat died in ancient Egypt, family members would mourn by shaving off their eyebrows. They also held elaborate funerals during which they drank wine and beat their breasts. The cat was embalmed with a sculpted wooden mask and the tiny mummy was placed in the family tomb or in a pet cemetery with tiny mummies of mice.\\nIn 1888, more than 300,000 mummified cats were found an Egyptian cemetery. They were stripped of their wrappings and carted off to be used by farmers in England and the U.S. for fertilizer.\\nMost cats give birth to a litter of between one and nine kittens. The largest known litter ever produced was 19 kittens, of which 15 survived.\\nSmuggling a cat out of ancient Egypt was punishable by death. Phoenician traders eventually succeeded in smuggling felines, which they sold to rich people in Athens and other important cities.\\nThe earliest ancestor of the modern cat lived about 30 million years ago. Scientists called it the Proailurus , which means “first cat” in Greek. The group of animals that pet cats belong to emerged around 12 million years ago.\\nThe biggest wildcat today is the Siberian Tiger. It can be more than 12 feet (3.6 m) long (about the size of a small car) and weigh up to 700 pounds (317 kg).\\nThe smallest wildcat today is the Black-footed cat. The females are less than 20 inches (50 cm) long and can weigh as little as 2.5 lbs. (1.2 kg).\\nMany Egyptians worshipped the goddess Bast, who had a woman’s body and a cat’s head.\\nMohammed loved cats and reportedly his favorite cat, Muezza, was a tabby. Legend says that tabby cats have an “M” for Mohammed on top of their heads because Mohammad would often rest his hand on the cat’s head.\\nWhile many parts of Europe and North America consider the black cat a sign of bad luck, in Britain and Australia, black cats are considered lucky.\\nThe most popular pedigreed cat is the Persian cat, followed by the Main Coon cat and the Siamese cat.\\nThe smallest pedigreed cat is a Singapura, which can weigh just 4 lbs. (1.8 kg), or about five large cans of cat food. The largest pedigreed cats are Maine Coon cats, which can weigh 25 lbs. (11.3 kg), or nearly twice as much as an average cat weighs.\\nSome Siamese cats appear cross-eyed because the nerves from the left side of the brain go to mostly the right eye and the nerves from the right side of the brain go mostly to the left eye. This causes some double vision, which the cat tries to correct by “crossing” its eyes.\\nResearchers believe the word “tabby” comes from Attabiyah, a neighborhood in Baghdad, Iraq. Tabbies got their name because their striped coats resembled the famous wavy patterns in the silk produced in this city.\\nCats hate the water because their fur does not insulate well when it’s wet. The Turkish Van, however, is one cat that likes swimming. Bred in central Asia, its coat has a unique texture that makes it water resistant.\\nThe Egyptian Mau is probably the oldest breed of cat. In fact, the breed is so ancient that its name is the Egyptian word for “cat.”\\nThe costliest cat ever is named Little Nicky, who cost his owner $50,000. He is a clone of an older cat.\\nA cat usually has about 12 whiskers on each side of its face.\\nA cat’s eyesight is both better and worse than humans. It is better because cats can see in much dimmer light and they have a wider peripheral view. It’s worse because they don’t see color as well as humans do. Scientists believe grass appears red to cats.\\nSpanish-Jewish folklore recounts that Adam’s first wife, Lilith, became a black vampire cat, sucking the blood from sleeping babies. This may be the root of the superstition that a cat will smother a sleeping baby or suck out the child’s breath.\\nPerhaps the most famous comic cat is the Cheshire Cat in Lewis Carroll’s Alice in Wonderland. With the ability to disappear, this mysterious character embodies the magic and sorcery historically associated with cats.\\nIn the original Italian version of Cinderella, the benevolent fairy godmother figure was a cat.\\nIn Holland’s embassy in Moscow, Russia, the staff noticed that the two Siamese cats kept meowing and clawing at the walls of the building. Their owners finally investigated, thinking they would find mice. Instead, they discovered microphones hidden by Russian spies. The cats heard the microphones when they turned on.\\nThe little tufts of hair in a cat’s ear that help keep out dirt direct sounds into the ear, and insulate the ears are called “ear furnishings.”\\nThe ability of a cat to find its way home is called “psi-traveling.” Experts think cats either use the angle of the sunlight to find their way or that cats have magnetized cells in their brains that act as compasses.\\nIsaac Newton invented the cat flap. Newton was experimenting in a pitch-black room. Spithead, one of his cats, kept opening the door and wrecking his experiment. The cat flap kept both Newton and Spithead happy.\\nThe world’s rarest coffee, Kopi Luwak, comes from Indonesia where a wildcat known as the luwak lives. The cat eats coffee berries and the coffee beans inside pass through the stomach. The beans are harvested from the cat’s dung heaps and then cleaned and roasted. Kopi Luwak sells for about $500 for a 450 g (1 lb) bag.\\nA cat’s jaw can’t move sideways, so a cat can’t chew large chunks of food.\\nA cat almost never meows at another cat, mostly just humans. Cats typically will spit, purr, and hiss at other cats.\\nA cat’s back is extremely flexible because it has up to 53 loosely fitting vertebrae. Humans only have 34.\\nApproximately 1/3 of cat owners think their pets are able to read their minds.\\nAll cats have claws, and all except the cheetah sheath them when at rest.\\nTwo members of the cat family are distinct from all others: the clouded leopard and the cheetah. The clouded leopard does not roar like other big cats, nor does it groom or rest like small cats. The cheetah is unique because it is a running cat; all others are leaping cats. They are leaping cats because they slowly stalk their prey and then leap on it.\\nA cat lover is called an Ailurophilia (Greek: cat+lover).\\nIn Japan, cats are thought to have the power to turn into super spirits when they die. This may be because according to the Buddhist religion, the body of the cat is the temporary resting place of very spiritual people.\\nMost cats had short hair until about 100 years ago, when it became fashionable to own cats and experiment with breeding.\\nCats have 32 muscles that control the outer ear (humans have only 6). A cat can independently rotate its ears 180 degrees.\\nOne reason that kittens sleep so much is because a growth hormone is released only during sleep.\\nCats have about 130,000 hairs per square inch (20,155 hairs per square centimeter). i\\nThe heaviest cat on record is Himmy, a Tabby from Queensland, Australia. He weighed nearly 47 pounds (21 kg). He died at the age of 10.\\nThe oldest cat on record was Crème Puff from Austin, Texas, who lived from 1967 to August 6, 2005, three days after her 38th birthday. A cat typically can live up to 20 years, which is equivalent to about 96 human years.\\nThe lightest cat on record is a blue point Himalayan called Tinker Toy, who weighed 1 pound, 6 ounces (616 g). Tinker Toy was 2.75 inches (7 cm) tall and 7.5 inches (19 cm) long.\\nThe tiniest cat on record is Mr. Pebbles, a 2-year-old cat that weighed 3 lbs (1.3 k) and was 6.1 inches (15.5 cm) high.\\nA commemorative tower was built in Scotland for a cat named Towser, who caught nearly 30,000 mice in her lifetime.\\nIn the 1750s, Europeans introduced cats into the Americas to control pests.\\nThe first cat show was organized in 1871 in London. Cat shows later became a worldwide craze.\\nThe first cartoon cat was Felix the Cat in 1919. In 1940, Tom and Jerry starred in the first theatrical cartoon “Puss Gets the Boot.” In 1981 Andrew Lloyd Weber created the musical Cats , based on T.S. Eliot’s Old Possum’s Book of Practical Cats.\\nThe normal body temperature of a cat is between 100.5 ° and 102.5 °F. A cat is sick if its temperature goes below 100 ° or above 103 °F.\\nA cat has 230 bones in its body. A human has 206. A cat has no collarbone, so it can fit through any opening the size of its head.\\nA cat’s nose pad is ridged with a unique pattern, just like the fingerprint of a human.\\nIf they have ample water, cats can tolerate temperatures up to 133 °F.\\nFoods that should not be given to cats include onions, garlic, green tomatoes, raw potatoes, chocolate, grapes, and raisins. Though milk is not toxic, it can cause an upset stomach and gas. Tylenol and aspirin are extremely toxic to cats, as are many common houseplants. Feeding cats dog food or canned tuna that’s for human consumption can cause malnutrition.\\nA 2007 Gallup poll revealed that both men and women were equally likely to own a cat.\\nA cat’s heart beats nearly twice as fast as a human heart, at 110 to 140 beats a minute.\\nCats don’t have sweat glands over their bodies like humans do. Instead, they sweat only through their paws.\\nIn just seven years, a single pair of cats and their offspring could produce a staggering total of 420,000 kittens.\\nRelative to its body size, the clouded leopard has the biggest canines of all animals’ canines. Its dagger-like teeth can be as long as 1.8 inches (4.5 cm).\\nCats spend nearly 1/3 of their waking hours cleaning themselves.\\nGrown cats have 30 teeth. Kittens have about 26 temporary teeth, which they lose when they are about 6 months old.\\nA cat called Dusty has the known record for the most kittens. She had more than 420 kittens in her lifetime.\\nThe largest cat breed is the Ragdoll. Male Ragdolls weigh between 12 and 20 lbs. (5.4-9.0 k). Females weigh between 10 and 15 lbs. (4.5-6.8 k).\\nCats are extremely sensitive to vibrations. Cats are said to detect earthquake tremors 10 or 15 minutes before humans can.\\nIn contrast to dogs, cats have not undergone major changes during their domestication process.\\nA female cat is called a queen or a molly.\\nIn the 1930s, two Russian biologists discovered that color change in Siamese kittens depend on their body temperature. Siamese cats carry albino genes that work only when the body temperature is above 98° F. If these kittens are left in a very warm room, their points won’t darken and they will stay a creamy white.\\nThere are up to 60 million feral cats in the United States alone.\\nThe oldest cat to give birth was Kitty who, at the age of 30, gave birth to two kittens. During her life, she gave birth to 218 kittens.\\nThe most traveled cat is Hamlet, who escaped from his carrier while on a flight. He hid for seven weeks behind a pane. By the time he was discovered, he had traveled nearly 373,000 miles (600,000 km).\\nThe most expensive cat was an Asian Leopard cat (ALC)-Domestic Shorthair (DSH) hybrid named Zeus. Zeus, who is 90% ALC and 10% DSH, has an asking price of £100,000 ($154,000).\\nThe cat who holds the record for the longest non-fatal fall is Andy. He fell from the 16 th floor of an apartment building (about 200 ft/.06 km) and survived.\\nThe richest cat is Blackie who was left £15 million by his owner, Ben Rea.\\nThe claws on the cat’s back paws aren’t as sharp as the claws on the front paws because the claws in the back don’t retract and, consequently, become worn.\\nCats have five toes on each front paw, but only four toes on each back paw.\\nCats are sometimes born with extra toes. This is called polydactyl. These toes will not harm the cat, but you should keep his claws trimmed just like any toe.\\nCats have true fur, in that they have both an undercoat and an outer coat.\\nNewborn kittens have closed ear canals that don’t begin to open for nine days. When the eyes open, they are always blue at first. They change color over a period of months to the final eye color.\\nMost cats have no eyelashes.\\nCats have a full inner-eyelid, or nictitating membrane. This inner-eyelid serves to help protect the eyes from dryness and damage. When the cat is ill, the inner-eyelid will frequently close partially, making it visible to the observer.\\nA cat cannot see directly under its nose. This is why the cat cannot seem to find tidbits on the floor.\\nYou can tell a cat’s mood by looking into its eyes. A frightened or excited cat will have large, round pupils. An angry cat will have narrow pupils. The pupil size is related as much to the cat’s emotions as to the degree of light.\\nIt is a common belief that cats are color blind. However, recent studies have shown that cats can see blue, green and red.\\nA large majority of white cats with blue eyes are deaf. White cats with only one blue eye are deaf only in the ear closest to the blue eye. White cats with orange eyes do not have this disability.\\nCats with white fur and skin on their ears are very prone to sunburn. Frequent sunburns can lead to skin cancer. Many white cats need surgery to remove all or part of a cancerous ear. Preventive measures include sunscreen, or better, keeping the cat indoors.\\nA cat can jump even seven times as high as it is tall.\\nThe cat’s footpads absorb the shocks of the landing when the cat jumps.\\nCats lack a true collarbone. Because of this lack, cats can generally squeeze their bodies through any space they can get their heads through. You may have seen a cat testing the size of an opening by careful measurement with the head.\\nIf left to her own devices, a female cat may have three to seven kittens every four months. This is why population control using neutering and spaying is so important.\\nA cat is pregnant for about 58-65 days.\\nMother cats teach their kittens to use the litter box.\\nThe way you treat kittens in the early stages of its life will render it’s personality traits later in life.\\nContrary to popular belief, the cat is a social animal. A pet cat will respond and answer to speech, and seems to enjoy human companionship.\\nWhen well treated, a cat can live twenty or more years but the average life span of a domestic cat is 14 years.\\nNeutering a cat extends its life span by two or three years.\\nCats, especially older cats, do get cancer. Many times this disease can be treated successfully.\\nCats can’t taste sweets.\\nCats must have fat in their diet because they can’t produce it on their own.\\nSome common houseplants poisonous to cats include: English Ivy, iris, mistletoe, philodendron, and yew.\\nTylenol and chocolate are both poisonous to cats.\\nMany cats cannot properly digest cow’s milk. Milk and milk products give them diarrhea.\\nThe average cat food meal is the equivalent to about five mice.\\nCats can get tapeworms from eating fleas. These worms live inside the cat forever, or until they are removed with medication. They reproduce by shedding a link from the end of their long bodies. This link crawls out the cat’s anus, and sheds hundreds of eggs. These eggs are injected by flea larvae, and the cycle continues. Humans may get these tapeworms too, but only if they eat infected fleas. Cats with tapeworms should be dewormed by a veterinarian.\\nCats can get tapeworms from eating mice. If your cat catches a mouse it is best to take the prize away from it.\\nThough rare, cats can contract canine heart worms.\\nThe gene in cats that causes the orange coat color are sexed linked, and is on the X sex chromosome. This gene may display orange or black. Thus, as female cat with two X chromosomes may have orange and black colors in its coat. A male, with only one X chromosome, can have only orange or black, not both.\\nIf a male cat is both orange and black it is (besides being extremely rare ) sterile. To have both the orange and the black coat colors, the male cat must have all or part of both female X chromosomes. This unusual sex chromosome combination will render the male cat sterile.\\nCats have AB blood groups just like people.\\nA form of AIDS exists in cats.\\nThe color of the points in Siamese cats is heat related. Cool areas are darker.\\nSiamese kittens are born white because of the heat inside the mother’s uterus before birth. This heat keeps the kittens’ hair from darkening on the points.\\nPeople who are allergic to cats are actually allergic to cat saliva or to cat dander. If the resident cat is bathed regularly the allergic people tolerate it better.\\nStudies now show that the allergen in cats is related to their scent glands. Cats have scent glands on their faces and at the base of their tails. Entire male cats generate the most scent. If this secretion from the scent glands is the allergen, allergic people should tolerate spayed female cats the best.\\nCats do not think that they are little people. They think that we are big cats. This influences their behavior in many ways.\\nCats are subject to gum disease and to dental caries. They should have their teeth cleaned by the vet or the cat dentist once a year.\\nMany people fear catching a protozoan disease, Toxoplasmosis, from cats. This disease can cause illness in the human, but more seriously, can cause birth defects in the unborn. Toxoplasmosis is a common disease, sometimes spread through the feces of cats. It is caused most often from eating raw or rare beef. Pregnant women and people with a depressed immune system should not touch the cat litter box. Other than that, there is no reason that these people have to avoid cats.\\nThe ancestor of all domestic cats is the African Wild Cat which still exists today.\\nIn ancient Egypt, killing a cat was a crime punishable by death.\\nIn ancient Egypt, mummies were made of cats, and embalmed mice were placed with them in their tombs. In one ancient city, over 300,000 cat mummies were found.\\nIn the middle Ages, during the Festival of Saint John, cats were burned alive in town squares.\\nThe first cat show was in 1871 at the Crystal Palace in London.\\nToday there are about 100 distinct breeds of the domestic cat.\\nLike birds, cats have a homing ability that uses its biological clock, the angle of the sun, and the Earth’s magnetic field. A cat taken far from its home can return to it. But if a cat’s owners move far from its home, the cat can’t find them.\\nCats bury their feces to cover their trails from predators.\\nCats sleep 16 to 18 hours per day. When cats are asleep, they are still alert to incoming stimuli. If you poke the tail of a sleeping cat, it will respond accordingly.\\nBesides smelling with their nose, cats can smell with an additional organ called the Jacobson’s organ, located in the upper surface of the mouth.\\nThe chlorine in fresh tap water irritates sensitive parts of the cat’s nose. Let tap water sit for 24 hours before giving it to a cat.'"
      ]
     },
     "execution_count": 3,
     "metadata": {},
     "output_type": "execute_result"
    }
   ],
   "source": [
    "extracted_text = read_txt_files(txt_file_path)\n",
    "extracted_text"
   ]
  },
  {
   "cell_type": "code",
   "execution_count": 4,
   "id": "d591f018",
   "metadata": {},
   "outputs": [],
   "source": [
    "# https://studio.nebius.com/\n",
    "\n",
    "client = OpenAI(\n",
    "    base_url=\"https://api.studio.nebius.com/v1/\",\n",
    "    api_key=api_key\n",
    ")"
   ]
  },
  {
   "cell_type": "code",
   "execution_count": 5,
   "id": "86175499",
   "metadata": {},
   "outputs": [
    {
     "data": {
      "text/plain": [
       "<openai.OpenAI at 0x1ca8b0cae40>"
      ]
     },
     "execution_count": 5,
     "metadata": {},
     "output_type": "execute_result"
    }
   ],
   "source": [
    "client"
   ]
  },
  {
   "cell_type": "code",
   "execution_count": 11,
   "id": "2f4caf79",
   "metadata": {},
   "outputs": [],
   "source": [
    "model=\"meta-llama/Meta-Llama-3.1-70B-Instruct\"\n",
    "\n",
    "response = client.chat.completions.create(\n",
    "    model=model,\n",
    "    temperature=0,\n",
    "    messages=[\n",
    "        {\"role\": \"system\", \"content\": \"You are a helpful assistant.\"},\n",
    "        {\"role\": \"user\", \"content\":  f\"Here is some text: {extracted_text}. What can you tell me about it?\"}\n",
    "    ]\n",
    ")"
   ]
  },
  {
   "cell_type": "code",
   "execution_count": 13,
   "id": "3c18e7c7",
   "metadata": {},
   "outputs": [
    {
     "data": {
      "text/plain": [
       "\"What a treasure trove of cat facts!\\n\\nThis text is a comprehensive collection of interesting and little-known facts about cats, covering their behavior, physiology, history, and more. Here are some observations and insights:\\n\\n1. **Cats are fascinating creatures**: The text showcases the unique characteristics, abilities, and quirks of cats, making them even more endearing to cat lovers.\\n2. **History of cat domestication**: The text mentions the ancient Egyptians' reverence for cats, the first cat show in 1871, and the introduction of cats to the Americas to control pests.\\n3. **Cat behavior and physiology**: The text explains various aspects of cat behavior, such as their sleep patterns, hunting habits, and communication methods. It also delves into their physiology, including their skeletal structure, senses, and digestive system.\\n4. **Breed diversity**: The text mentions various cat breeds, including the Persian, Maine Coon, Siamese, and Singapura, highlighting their unique characteristics and features.\\n5. **Health and nutrition**: The text provides information on cat health, including common diseases, nutritional needs, and foods that are toxic to cats.\\n6. **Interesting records and facts**: The text includes records of the oldest, heaviest, and longest-lived cats, as well as unusual facts, such as the existence of a cat that can swim and a cat that survived a 16-story fall.\\n7. **Cat-human relationships**: The text touches on the bond between cats and humans, including the benefits of cat ownership and the importance of proper care and attention.\\n8. **Myth-busting**: The text dispels common myths, such as the idea that cats are colorblind or that they are not social animals.\\n\\nOverall, this text is a delightful and informative collection of cat facts that will appeal to cat enthusiasts and anyone interested in learning more about these fascinating creatures.\""
      ]
     },
     "execution_count": 13,
     "metadata": {},
     "output_type": "execute_result"
    }
   ],
   "source": [
    "response\n",
    "response.choices[0].message.content "
   ]
  },
  {
   "cell_type": "code",
   "execution_count": null,
   "id": "60c54a51",
   "metadata": {},
   "outputs": [],
   "source": []
  }
 ],
 "metadata": {
  "kernelspec": {
   "display_name": ".venv",
   "language": "python",
   "name": "python3"
  },
  "language_info": {
   "codemirror_mode": {
    "name": "ipython",
    "version": 3
   },
   "file_extension": ".py",
   "mimetype": "text/x-python",
   "name": "python",
   "nbconvert_exporter": "python",
   "pygments_lexer": "ipython3",
   "version": "3.12.2"
  }
 },
 "nbformat": 4,
 "nbformat_minor": 5
}
